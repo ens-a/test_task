{
 "cells": [
  {
   "cell_type": "code",
   "execution_count": 52,
   "metadata": {},
   "outputs": [],
   "source": [
    "import numpy as np\n",
    "from numpy.linalg import norm"
   ]
  },
  {
   "cell_type": "markdown",
   "metadata": {},
   "source": [
    "## Функция принимает на вход: \n",
    "#### size1 - Размеры исходной картинки, прим. (10, 10)\n",
    "#### size2 - Размеры обработанной картинки, прим. (10, 10)\n",
    "#### v - Массив точек, прим. [[[x1, y1], [x2, y2]], ....]\n",
    "#### angle_delta - Порог допустимых отклонений для ориентации (угол в рад), float\n",
    "#### dist_delta - Порог допустимых отклонений для дистанции между точками, float"
   ]
  },
  {
   "cell_type": "code",
   "execution_count": 102,
   "metadata": {},
   "outputs": [],
   "source": [
    "def validate_points(size1, size2, v, angle_delta, dist_delta):\n",
    "\n",
    "    out_of_range = []\n",
    "    n_vec = v.shape[0] # считаем колличество точек\n",
    "    scale_x = size2[0]/size1[0] # считаем масштаб для преобразования первой картинки\n",
    "    scale_y = size2[1]/size1[1]\n",
    "    \n",
    "    for number in range(n_vec):\n",
    "        \n",
    "        v1 = [v[number][0][0]*scale_x, v[number][0][1]*scale_y] # создаем вектора для точки первой и второй картинки\n",
    "        v2 = v[number][0]\n",
    "        \n",
    "        dist = norm(v2 - v1, ord=2) # получаем L2 норму растояния между векторами \n",
    "        cos_angle = np.dot(v1, v2) / norm(v1) / norm(v2) # считаем угол в радианах\n",
    "        angle = np.arccos(cos_angle)\n",
    "        \n",
    "        if angle > angle_delta or dist > dist_delta: # сохраняем пары непрошедшие фалидацию\n",
    "            out_of_range.append(v[number])\n",
    "    \n",
    "    if not out_of_range:\n",
    "        print ('Точки удовлетворяют условиям валидации')\n",
    "    else:\n",
    "        print('Не все точки удовлетворяют условиям валидации')\n",
    "        return np.array(out_of_range)"
   ]
  },
  {
   "cell_type": "code",
   "execution_count": null,
   "metadata": {},
   "outputs": [],
   "source": []
  }
 ],
 "metadata": {
  "kernelspec": {
   "display_name": "Python 3",
   "language": "python",
   "name": "python3"
  },
  "language_info": {
   "codemirror_mode": {
    "name": "ipython",
    "version": 3
   },
   "file_extension": ".py",
   "mimetype": "text/x-python",
   "name": "python",
   "nbconvert_exporter": "python",
   "pygments_lexer": "ipython3",
   "version": "3.7.4"
  }
 },
 "nbformat": 4,
 "nbformat_minor": 2
}
