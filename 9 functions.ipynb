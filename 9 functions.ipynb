{
 "cells": [
  {
   "cell_type": "code",
   "execution_count": 75,
   "metadata": {},
   "outputs": [],
   "source": [
    "import numpy as np\n",
    "pi = np.pi"
   ]
  },
  {
   "cell_type": "code",
   "execution_count": 37,
   "metadata": {},
   "outputs": [],
   "source": [
    "#xi ∈ [-5.12, 5.12]\n",
    "def sphere(x):\n",
    "    f = np.sum([x**2 for x in x])\n",
    "    return f"
   ]
  },
  {
   "cell_type": "code",
   "execution_count": 38,
   "metadata": {},
   "outputs": [],
   "source": [
    "#xi ∈ [-32.768, 32.768]\n",
    "def ackley(x):\n",
    "    a = 20\n",
    "    b = 0.2\n",
    "    c = 2*pi\n",
    "    d = len(x)\n",
    "    sum1 = np.sum([x**2 for x in x])\n",
    "    sum2 = np.sum([np.cos(c*x) for x in x])\n",
    "    \n",
    "    f = a + exp(1) -a * np.exp(-b * np.sqrt(sum1/d)) - np.exp(sum2/d)\n",
    "    return f"
   ]
  },
  {
   "cell_type": "code",
   "execution_count": 39,
   "metadata": {},
   "outputs": [],
   "source": [
    "#xi ∈ [-5.12, 5.12]\n",
    "def rastrigin(x):\n",
    "    d = len(x)\n",
    "    sum1 = np.sum([x**2 for x in x])\n",
    "    sum2 = np.sum([10*np.cos(2*pi*x) for x in x])\n",
    "    f = 10*d + sum1 - sum2\n",
    "    return f"
   ]
  },
  {
   "cell_type": "code",
   "execution_count": 56,
   "metadata": {},
   "outputs": [],
   "source": [
    "#xi ∈ [-5, 10]\n",
    "def rosenbrock(x):\n",
    "    d = len(x)\n",
    "    sum1 = 0\n",
    "    for i in range(d-1):\n",
    "        sum1 += (100*(x[i+1] - x[i]**2))**2\n",
    "    sum2 = np.sum([(x-1)**2 for x in x])\n",
    "    f = sum1 + sum2\n",
    "    return f"
   ]
  },
  {
   "cell_type": "code",
   "execution_count": 64,
   "metadata": {},
   "outputs": [],
   "source": [
    "#xi ∈ [-600, 600]\n",
    "def griewank(x):\n",
    "    d = len(x)\n",
    "    sum1 = np.sum([x**2/4000 for x in x])\n",
    "    prod1 = 0\n",
    "    for i in range(d):\n",
    "        prod1 *= np.cos(x[i]/np.sqrt(i+1))\n",
    "    f = sum1 - prod1 +1 \n",
    "    return f"
   ]
  },
  {
   "cell_type": "code",
   "execution_count": 65,
   "metadata": {},
   "outputs": [],
   "source": [
    "#xi ∈ [-500, 500]\n",
    "def schwefel(x):\n",
    "    d = len(x)\n",
    "    c = 418.9829\n",
    "    sum1 = np.sum([x*np.sin(np.sqrt(np.absolute(x))) for x in x])\n",
    "    f = c*d - sum1\n",
    "    return f"
   ]
  },
  {
   "cell_type": "code",
   "execution_count": 78,
   "metadata": {},
   "outputs": [],
   "source": [
    "#xi ∈ [-10, 10]\n",
    "def levy(x):\n",
    "    d = len(x)\n",
    "    w = [1 + (x -1)/4 for x in x]\n",
    "    c1 = np.sin(pi*w[0])**2\n",
    "    c2 = (w[-1] - 1)**2*(1 + np.sin(2*pi*w[-1])**2)\n",
    "    sum1 = np.sum([(w - 1)**2*(1 + 10*np.sin(pi*w + 1)**2) for w in w])\n",
    "    f = c1 + sum1 + c2\n",
    "    return f"
   ]
  },
  {
   "cell_type": "code",
   "execution_count": 89,
   "metadata": {},
   "outputs": [],
   "source": [
    "#xi ∈ [0, π]\n",
    "def micha(x):\n",
    "    m = 10\n",
    "    d = len(x)\n",
    "    sum1 = 0\n",
    "    for i in range(d):\n",
    "        sum1 += np.sin(x[i])*np.sin((i+1)/pi*x[i]**2)**(2*m)\n",
    "    f = -sum1\n",
    "    return f"
   ]
  },
  {
   "cell_type": "code",
   "execution_count": 97,
   "metadata": {},
   "outputs": [],
   "source": [
    "#xi ∈ [-5, 10]\n",
    "def zakhar(x):\n",
    "    d = len(x)\n",
    "    sum1 = np.sum([x**2 for x in x])\n",
    "    sum2 = 0\n",
    "    for i in range(d):\n",
    "        sum2 += 0.5*(i+1)*x[i]\n",
    "    f = sum1 + sum2**2 + sum2**4\n",
    "    return f"
   ]
  },
  {
   "cell_type": "code",
   "execution_count": 101,
   "metadata": {},
   "outputs": [],
   "source": []
  },
  {
   "cell_type": "code",
   "execution_count": 106,
   "metadata": {},
   "outputs": [
    {
     "data": {
      "text/plain": [
       "-0.00033451267210618074"
      ]
     },
     "execution_count": 106,
     "metadata": {},
     "output_type": "execute_result"
    }
   ],
   "source": []
  },
  {
   "cell_type": "code",
   "execution_count": 100,
   "metadata": {},
   "outputs": [
    {
     "data": {
      "text/plain": [
       "2464.0"
      ]
     },
     "execution_count": 100,
     "metadata": {},
     "output_type": "execute_result"
    }
   ],
   "source": []
  },
  {
   "cell_type": "code",
   "execution_count": null,
   "metadata": {},
   "outputs": [],
   "source": []
  }
 ],
 "metadata": {
  "kernelspec": {
   "display_name": "Python 3",
   "language": "python",
   "name": "python3"
  },
  "language_info": {
   "codemirror_mode": {
    "name": "ipython",
    "version": 3
   },
   "file_extension": ".py",
   "mimetype": "text/x-python",
   "name": "python",
   "nbconvert_exporter": "python",
   "pygments_lexer": "ipython3",
   "version": "3.7.4"
  }
 },
 "nbformat": 4,
 "nbformat_minor": 2
}
